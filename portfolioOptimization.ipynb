{
 "cells": [
  {
   "cell_type": "code",
   "execution_count": 38,
   "id": "3bcd7504",
   "metadata": {},
   "outputs": [],
   "source": [
    "import yfinance as yf \n",
    "import pandas as pd \n",
    "from datetime import datetime, timedelta \n",
    "import numpy as np \n",
    "from scipy.optimize import minimize"
   ]
  },
  {
   "cell_type": "code",
   "execution_count": 39,
   "id": "0edd5132",
   "metadata": {},
   "outputs": [],
   "source": [
    "tickers = ['NVDA','AAPL','MSFT','AMD', 'GOOGL', 'AMZN', 'TSLA', 'MU']\n",
    "end_date = datetime.today()\n",
    "start_date = end_date - timedelta(days = 5*365)"
   ]
  },
  {
   "cell_type": "code",
   "execution_count": 40,
   "id": "6a318351",
   "metadata": {},
   "outputs": [
    {
     "name": "stdout",
     "output_type": "stream",
     "text": [
      "Adjusted close DataFrame shape: (1305, 8)\n",
      "Columns in adj_close_df: ['AAPL', 'AMD', 'AMZN', 'GOOGL', 'MSFT', 'MU', 'NVDA', 'TSLA']\n",
      "Date range: 2020-08-10 00:00:00 to 2025-08-08 00:00:00\n",
      "Ticker            AAPL        AMD        AMZN      GOOGL        MSFT  \\\n",
      "Date                                                                   \n",
      "2020-08-10  109.776482  82.239998  157.408005  74.394836  199.521332   \n",
      "2020-08-11  106.511757  76.879997  154.033493  73.585686  194.855423   \n",
      "2020-08-12  110.051590  82.610001  158.112000  74.912720  200.421936   \n",
      "2020-08-13  111.999237  81.839996  158.050995  75.380417  199.952499   \n",
      "2020-08-14  111.899414  81.300003  157.401001  74.783005  200.144104   \n",
      "\n",
      "Ticker             MU       NVDA        TSLA  \n",
      "Date                                          \n",
      "2020-08-10  48.004917  11.128321   94.571335  \n",
      "2020-08-11  46.647301  10.814353   91.625999  \n",
      "2020-08-12  47.350529  11.402665  103.650665  \n",
      "2020-08-13  45.065041  11.405406  108.066666  \n",
      "2020-08-14  44.537632  11.526008  110.047333  \n"
     ]
    }
   ],
   "source": [
    "# Robust multi-ticker download with adjusted prices and MultiIndex handling\n",
    "raw = yf.download(\n",
    "    tickers,\n",
    "    start=start_date,\n",
    "    end=end_date,\n",
    "    auto_adjust=True,           # adjusted already lives in 'Close'\n",
    "    group_by=\"column\",\n",
    "    progress=False\n",
    ")\n",
    "\n",
    "# Extract adjusted price level for both old/new yfinance behaviors\n",
    "if isinstance(raw.columns, pd.MultiIndex):\n",
    "    lvl0 = raw.columns.get_level_values(0)\n",
    "    want = \"Adj Close\" if \"Adj Close\" in lvl0 else \"Close\"\n",
    "    adj_close_df = raw.xs(want, axis=1, level=0)\n",
    "else:\n",
    "    want = \"Adj Close\" if \"Adj Close\" in raw.columns else \"Close\"\n",
    "    adj_close_df = raw[[want]]\n",
    "    # If a single ticker was provided, rename the column to the ticker symbol\n",
    "    if isinstance(tickers, list) and len(tickers) == 1:\n",
    "        adj_close_df = adj_close_df.rename(columns={want: tickers[0]})\n",
    "\n",
    "# Optional: align to business days and fill small gaps\n",
    "adj_close_df = (\n",
    "    adj_close_df.sort_index()\n",
    "                .asfreq(\"B\")\n",
    "                .ffill(limit=3)\n",
    "                .dropna(how=\"all\")\n",
    ")\n",
    "\n",
    "print(f\"Adjusted close DataFrame shape: {adj_close_df.shape}\")\n",
    "print(f\"Columns in adj_close_df: {list(adj_close_df.columns)}\")\n",
    "if not adj_close_df.empty:\n",
    "    print(f\"Date range: {adj_close_df.index[0]} to {adj_close_df.index[-1]}\")\n",
    "    print(adj_close_df.head())\n",
    "else:\n",
    "    print(\"Error: No data was downloaded. Check tickers/date range/network.\")"
   ]
  },
  {
   "cell_type": "code",
   "execution_count": null,
   "id": "4d897bcd",
   "metadata": {},
   "outputs": [],
   "source": []
  },
  {
   "cell_type": "code",
   "execution_count": null,
   "id": "0e3ea2ce",
   "metadata": {},
   "outputs": [],
   "source": []
  },
  {
   "cell_type": "code",
   "execution_count": 41,
   "id": "087798af",
   "metadata": {},
   "outputs": [
    {
     "name": "stdout",
     "output_type": "stream",
     "text": [
      "Code is Poetry\n"
     ]
    }
   ],
   "source": [
    "from typing import Any\n",
    "\n",
    "class Console:\n",
    "    @staticmethod\n",
    "    def log(*args: Any) -> None:\n",
    "        print(*args)\n",
    "\n",
    "console = Console()\n",
    "console.log(\"Code is\", \"Poetry\")"
   ]
  },
  {
   "cell_type": "code",
   "execution_count": 42,
   "id": "a2abf86e",
   "metadata": {},
   "outputs": [
    {
     "name": "stdout",
     "output_type": "stream",
     "text": [
      "Log returns shape: (1304, 8)\n",
      "Date range: 2020-08-11 00:00:00 to 2025-08-08 00:00:00\n",
      "First few log returns:\n",
      " Ticker          AAPL       AMD      AMZN     GOOGL      MSFT        MU  \\\n",
      "Date                                                                     \n",
      "2020-08-11 -0.030191 -0.067396 -0.021671 -0.010936 -0.023663 -0.028688   \n",
      "2020-08-12  0.032694  0.071885  0.026134  0.017873  0.028167  0.014963   \n",
      "2020-08-13  0.017543 -0.009365 -0.000386  0.006224 -0.002345 -0.049471   \n",
      "2020-08-14 -0.000892 -0.006620 -0.004121 -0.007957  0.000958 -0.011772   \n",
      "2020-08-17 -0.002614  0.013682  0.010865  0.007686  0.006584 -0.008368   \n",
      "\n",
      "Ticker          NVDA      TSLA  \n",
      "Date                            \n",
      "2020-08-11 -0.028619 -0.031639  \n",
      "2020-08-12  0.052973  0.123311  \n",
      "2020-08-13  0.000240  0.041722  \n",
      "2020-08-14  0.010519  0.018162  \n",
      "2020-08-17  0.064706  0.106188  \n"
     ]
    }
   ],
   "source": [
    "# Compute log returns using diff of logs (fast & stable)\n",
    "if adj_close_df.empty:\n",
    "    print(\"Error: adj_close_df is empty; cannot compute log returns.\")\n",
    "else:\n",
    "    log_returns = np.log(adj_close_df).diff().dropna(how=\"all\")\n",
    "    print(f\"Log returns shape: {log_returns.shape}\")\n",
    "    if not log_returns.empty:\n",
    "        print(f\"Date range: {log_returns.index[0]} to {log_returns.index[-1]}\")\n",
    "        print(\"First few log returns:\\n\", log_returns.head())\n",
    "    else:\n",
    "        print(\"Warning: Log returns DataFrame is empty after diff/dropna.\")"
   ]
  },
  {
   "cell_type": "code",
   "execution_count": 43,
   "id": "e40ceefe",
   "metadata": {},
   "outputs": [
    {
     "name": "stdout",
     "output_type": "stream",
     "text": [
      "Covariance matrix shape: (8, 8)\n",
      "Tickers: ['AAPL', 'AMD', 'AMZN', 'GOOGL', 'MSFT', 'MU', 'NVDA', 'TSLA']\n",
      "\n",
      "Head of covariance matrix:\n",
      " Ticker      AAPL       AMD      AMZN     GOOGL      MSFT        MU      NVDA  \\\n",
      "Ticker                                                                         \n",
      "AAPL    0.083151  0.077028  0.059383  0.051274  0.049501  0.055831  0.080883   \n",
      "AMD     0.077028  0.245741  0.093770  0.080874  0.074076  0.131767  0.187160   \n",
      "AMZN    0.059383  0.093770  0.121082  0.068309  0.062308  0.070140  0.103662   \n",
      "GOOGL   0.051274  0.080874  0.068309  0.092716  0.054245  0.059787  0.085865   \n",
      "MSFT    0.049501  0.074076  0.062308  0.054245  0.067888  0.053399  0.086509   \n",
      "\n",
      "Ticker      TSLA  \n",
      "Ticker            \n",
      "AAPL    0.091342  \n",
      "AMD     0.144800  \n",
      "AMZN    0.096393  \n",
      "GOOGL   0.075832  \n",
      "MSFT    0.069991  \n"
     ]
    }
   ],
   "source": [
    "# Annualized covariance matrix from log returns\n",
    "try:\n",
    "    if 'log_returns' not in globals() or log_returns.empty:\n",
    "        print(\"Error: log_returns is not available or empty; compute it first.\")\n",
    "    else:\n",
    "        cov_matrix = log_returns.cov() * 252\n",
    "        print(\"Covariance matrix shape:\", cov_matrix.shape)\n",
    "        print(\"Tickers:\", list(cov_matrix.columns))\n",
    "        print(\"\\nHead of covariance matrix:\\n\", cov_matrix.head())\n",
    "except NameError:\n",
    "    print(\"Error: log_returns not defined; run the log-returns cell first.\")"
   ]
  },
  {
   "cell_type": "code",
   "execution_count": 44,
   "id": "6eb626fd",
   "metadata": {},
   "outputs": [],
   "source": [
    "# Portfolio performance metrics\n",
    "import numpy as np\n",
    "\n",
    "def standard_deviation(weights, cov_matrix):\n",
    "    w = np.asarray(weights)\n",
    "    return np.sqrt(w.T @ cov_matrix @ w)\n",
    "\n",
    "def expected_return(weights, log_returns):\n",
    "    w = np.asarray(weights)\n",
    "    return np.sum(log_returns.mean().values * w) * 252\n",
    "\n",
    "def sharpe_ratio(weights, log_returns, cov_matrix, risk_free_rate=0.0):\n",
    "    return (expected_return(weights, log_returns) - risk_free_rate) / standard_deviation(weights, cov_matrix)"
   ]
  },
  {
   "cell_type": "code",
   "execution_count": 45,
   "id": "0a671d01",
   "metadata": {},
   "outputs": [
    {
     "name": "stdout",
     "output_type": "stream",
     "text": [
      "Optimization success: True\n"
     ]
    }
   ],
   "source": [
    "# Portfolio optimization (maximize Sharpe)\n",
    "from scipy.optimize import minimize\n",
    "\n",
    "risk_free_rate = 0.02  # 2%\n",
    "\n",
    "\n",
    "def neg_sharpe_ratio(weights, log_returns, cov_matrix, risk_free_rate):\n",
    "    return -sharpe_ratio(weights, log_returns, cov_matrix, risk_free_rate)\n",
    "\n",
    "n_assets = len(adj_close_df.columns)\n",
    "constraints = ({'type': 'eq', 'fun': lambda w: np.sum(w) - 1},)\n",
    "bounds = tuple((0.0, 0.4) for _ in range(n_assets))\n",
    "initial_weights = np.array([1.0 / n_assets] * n_assets)\n",
    "\n",
    "if 'log_returns' in globals() and not log_returns.empty:\n",
    "    optimized_results = minimize(\n",
    "        neg_sharpe_ratio,\n",
    "        initial_weights,\n",
    "        args=(log_returns, cov_matrix, risk_free_rate),\n",
    "        method='SLSQP',\n",
    "        constraints=constraints,\n",
    "        bounds=bounds,\n",
    "    )\n",
    "    print(\"Optimization success:\", optimized_results.success)\n",
    "    if not optimized_results.success:\n",
    "        print(\"Message:\", optimized_results.message)\n",
    "else:\n",
    "    print(\"Error: compute log_returns and cov_matrix before optimization.\")"
   ]
  },
  {
   "cell_type": "code",
   "execution_count": 46,
   "id": "7f5acd64",
   "metadata": {},
   "outputs": [
    {
     "name": "stdout",
     "output_type": "stream",
     "text": [
      "Optimal Weights:\n",
      "AAPL: 0.0000\n",
      "AMD: 0.0000\n",
      "AMZN: 0.0000\n",
      "GOOGL: 0.2058\n",
      "MSFT: 0.3942\n",
      "MU: 0.0000\n",
      "NVDA: 0.4000\n",
      "TSLA: 0.0000\n",
      "\n",
      "Expected Annual Return: 0.3292\n",
      "Expected Volatility: 0.3273\n",
      "Sharpe Ratio: 0.9448\n"
     ]
    },
    {
     "data": {
      "image/png": "[encoded data removed]",
      "text/plain": [
       "<Figure size 1000x600 with 1 Axes>"
      ]
     },
     "metadata": {},
     "output_type": "display_data"
    }
   ],
   "source": [
    "# Analyze the optimal portfolio and plot weights\n",
    "import matplotlib.pyplot as plt\n",
    "\n",
    "try:\n",
    "    optimal_weights = optimized_results.x\n",
    "    print(\"Optimal Weights:\")\n",
    "    for t, w in zip(adj_close_df.columns, optimal_weights):\n",
    "        print(f\"{t}: {w:.4f}\")\n",
    "\n",
    "    opt_ret = expected_return(optimal_weights, log_returns)\n",
    "    opt_vol = standard_deviation(optimal_weights, cov_matrix)\n",
    "    opt_sr = sharpe_ratio(optimal_weights, log_returns, cov_matrix, risk_free_rate)\n",
    "\n",
    "    print(f\"\\nExpected Annual Return: {opt_ret:.4f}\")\n",
    "    print(f\"Expected Volatility: {opt_vol:.4f}\")\n",
    "    print(f\"Sharpe Ratio: {opt_sr:.4f}\")\n",
    "\n",
    "    plt.figure(figsize=(10, 6))\n",
    "    plt.bar(adj_close_df.columns, optimal_weights)\n",
    "    plt.xlabel('Assets')\n",
    "    plt.ylabel('Optimal Weights')\n",
    "    plt.title('Optimal Portfolio Weights (Max Sharpe)')\n",
    "    plt.xticks(rotation=45)\n",
    "    plt.tight_layout()\n",
    "    plt.show()\n",
    "except Exception as e:\n",
    "    print(\"Optimization results not available:\", str(e))"
   ]
  },
  {
   "cell_type": "code",
   "execution_count": 47,
   "id": "25a8f87d",
   "metadata": {},
   "outputs": [
    {
     "name": "stderr",
     "output_type": "stream",
     "text": [
      "2025-08-09 19:19:24,947 INFO: Code is Poetry\n"
     ]
    }
   ],
   "source": [
    "import logging\n",
    "\n",
    "logging.basicConfig(level=logging.INFO, format=\"%(asctime)s %(levelname)s: %(message)s\")\n",
    "log = logging.getLogger(\"console\")\n",
    "\n",
    "log.info(\"Code is Poetry\")"
   ]
  },
  {
   "cell_type": "code",
   "execution_count": null,
   "id": "5a2ce558",
   "metadata": {},
   "outputs": [],
   "source": []
  }
 ],
 "metadata": {
  "kernelspec": {
   "display_name": "MLDLNEW",
   "language": "python",
   "name": "python3"
  },
  "language_info": {
   "codemirror_mode": {
    "name": "ipython",
    "version": 3
   },
   "file_extension": ".py",
   "mimetype": "text/x-python",
   "name": "python",
   "nbconvert_exporter": "python",
   "pygments_lexer": "ipython3",
   "version": "3.10.15"
  }
 },
 "nbformat": 4,
 "nbformat_minor": 5
}
