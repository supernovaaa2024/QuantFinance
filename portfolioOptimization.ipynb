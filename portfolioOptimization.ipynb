{
 "cells": [
  {
   "cell_type": "code",
   "execution_count": 62,
   "id": "3bcd7504",
   "metadata": {},
   "outputs": [],
   "source": [
    "import yfinance as yf \n",
    "import pandas as pd \n",
    "from datetime import datetime, timedelta \n",
    "import numpy as np \n",
    "from scipy.optimize import minimize"
   ]
  },
  {
   "cell_type": "code",
   "execution_count": 63,
   "id": "0edd5132",
   "metadata": {},
   "outputs": [],
   "source": [
    "tickers = ['SPY','NVDA','AAPL','MSFT','AMD', 'GOOGL', 'AMZN', 'TSLA', 'MU']\n",
    "end_date = datetime.today()\n",
    "start_date = end_date - timedelta(days = 2*365)"
   ]
  },
  {
   "cell_type": "code",
   "execution_count": 64,
   "id": "6a318351",
   "metadata": {},
   "outputs": [
    {
     "name": "stdout",
     "output_type": "stream",
     "text": [
      "Adjusted close DataFrame shape: (521, 9)\n",
      "Columns in adj_close_df: ['AAPL', 'AMD', 'AMZN', 'GOOGL', 'MSFT', 'MU', 'NVDA', 'SPY', 'TSLA']\n",
      "Date range: 2023-08-11 00:00:00 to 2025-08-08 00:00:00\n",
      "Ticker            AAPL         AMD        AMZN       GOOGL        MSFT  \\\n",
      "Date                                                                     \n",
      "2023-08-11  176.265274  107.570000  138.410004  128.787613  316.094849   \n",
      "2023-08-14  177.920959  111.980003  140.570007  130.547073  319.078430   \n",
      "2023-08-15  175.928177  111.349998  137.669998  129.006317  316.931824   \n",
      "2023-08-16  175.055725  107.190002  135.070007  127.932739  316.162140   \n",
      "2023-08-17  172.507767  104.440002  133.979996  129.145477  312.688751   \n",
      "\n",
      "Ticker             MU       NVDA         SPY        TSLA  \n",
      "Date                                                      \n",
      "2023-08-11  63.760769  40.829872  434.095764  242.649994  \n",
      "2023-08-14  67.633759  43.726089  436.491974  239.759995  \n",
      "2023-08-15  64.711678  43.912979  431.407379  232.960007  \n",
      "2023-08-16  63.612171  43.459255  428.241608  225.600006  \n",
      "2023-08-17  62.958420  43.317341  424.978516  219.220001  \n"
     ]
    }
   ],
   "source": [
    "# Robust multi-ticker download with adjusted prices and MultiIndex handling\n",
    "raw = yf.download(\n",
    "    tickers,\n",
    "    start=start_date,\n",
    "    end=end_date,\n",
    "    auto_adjust=True,           # adjusted already lives in 'Close'\n",
    "    group_by=\"column\",\n",
    "    progress=False\n",
    ")\n",
    "\n",
    "# Extract adjusted price level for both old/new yfinance behaviors\n",
    "if isinstance(raw.columns, pd.MultiIndex):\n",
    "    lvl0 = raw.columns.get_level_values(0)\n",
    "    want = \"Adj Close\" if \"Adj Close\" in lvl0 else \"Close\"\n",
    "    adj_close_df = raw.xs(want, axis=1, level=0)\n",
    "else:\n",
    "    want = \"Adj Close\" if \"Adj Close\" in raw.columns else \"Close\"\n",
    "    adj_close_df = raw[[want]]\n",
    "    # If a single ticker was provided, rename the column to the ticker symbol\n",
    "    if isinstance(tickers, list) and len(tickers) == 1:\n",
    "        adj_close_df = adj_close_df.rename(columns={want: tickers[0]})\n",
    "\n",
    "# Optional: align to business days and fill small gaps\n",
    "adj_close_df = (\n",
    "    adj_close_df.sort_index()\n",
    "                .asfreq(\"B\")\n",
    "                .ffill(limit=3)\n",
    "                .dropna(how=\"all\")\n",
    ")\n",
    "\n",
    "print(f\"Adjusted close DataFrame shape: {adj_close_df.shape}\")\n",
    "print(f\"Columns in adj_close_df: {list(adj_close_df.columns)}\")\n",
    "if not adj_close_df.empty:\n",
    "    print(f\"Date range: {adj_close_df.index[0]} to {adj_close_df.index[-1]}\")\n",
    "    print(adj_close_df.head())\n",
    "else:\n",
    "    print(\"Error: No data was downloaded. Check tickers/date range/network.\")"
   ]
  },
  {
   "cell_type": "code",
   "execution_count": 65,
   "id": "087798af",
   "metadata": {},
   "outputs": [
    {
     "name": "stdout",
     "output_type": "stream",
     "text": [
      "Code is Poetry\n"
     ]
    }
   ],
   "source": [
    "from typing import Any\n",
    "\n",
    "class Console:\n",
    "    @staticmethod\n",
    "    def log(*args: Any) -> None:\n",
    "        print(*args)\n",
    "\n",
    "console = Console()\n",
    "console.log(\"Code is\", \"Poetry\")"
   ]
  },
  {
   "cell_type": "code",
   "execution_count": 66,
   "id": "a2abf86e",
   "metadata": {},
   "outputs": [
    {
     "name": "stdout",
     "output_type": "stream",
     "text": [
      "Log returns shape: (520, 9)\n",
      "Date range: 2023-08-14 00:00:00 to 2025-08-08 00:00:00\n",
      "First few log returns:\n",
      " Ticker          AAPL       AMD      AMZN     GOOGL      MSFT        MU  \\\n",
      "Date                                                                     \n",
      "2023-08-14  0.009349  0.040179  0.015485  0.013569  0.009395  0.058969   \n",
      "2023-08-15 -0.011264 -0.005642 -0.020846 -0.011873 -0.006750 -0.044166   \n",
      "2023-08-16 -0.004971 -0.038075 -0.019066 -0.008357 -0.002432 -0.017137   \n",
      "2023-08-17 -0.014662 -0.025990 -0.008103  0.009435 -0.011047 -0.010330   \n",
      "2023-08-18  0.002812  0.009624 -0.005689 -0.019116 -0.001263  0.000472   \n",
      "\n",
      "Ticker          NVDA       SPY      TSLA  \n",
      "Date                                      \n",
      "2023-08-14  0.068531  0.005505 -0.011982  \n",
      "2023-08-15  0.004265 -0.011717 -0.028772  \n",
      "2023-08-16 -0.010386 -0.007365 -0.032103  \n",
      "2023-08-17 -0.003271 -0.007649 -0.028688  \n",
      "2023-08-18 -0.001039  0.000481 -0.017161  \n"
     ]
    }
   ],
   "source": [
    "# Compute log returns using diff of logs (fast & stable)\n",
    "if adj_close_df.empty:\n",
    "    print(\"Error: adj_close_df is empty; cannot compute log returns.\")\n",
    "else:\n",
    "    log_returns = np.log(adj_close_df).diff().dropna(how=\"all\")\n",
    "    print(f\"Log returns shape: {log_returns.shape}\")\n",
    "    if not log_returns.empty:\n",
    "        print(f\"Date range: {log_returns.index[0]} to {log_returns.index[-1]}\")\n",
    "        print(\"First few log returns:\\n\", log_returns.head())\n",
    "    else:\n",
    "        print(\"Warning: Log returns DataFrame is empty after diff/dropna.\")"
   ]
  },
  {
   "cell_type": "code",
   "execution_count": 67,
   "id": "e40ceefe",
   "metadata": {},
   "outputs": [
    {
     "name": "stdout",
     "output_type": "stream",
     "text": [
      "Covariance matrix shape: (9, 9)\n",
      "Tickers: ['AAPL', 'AMD', 'AMZN', 'GOOGL', 'MSFT', 'MU', 'NVDA', 'SPY', 'TSLA']\n",
      "\n",
      "Head of covariance matrix:\n",
      " Ticker      AAPL       AMD      AMZN     GOOGL      MSFT        MU      NVDA  \\\n",
      "Ticker                                                                         \n",
      "AAPL    0.073448  0.058656  0.042807  0.036019  0.031228  0.051639  0.051909   \n",
      "AMD     0.058656  0.237476  0.074150  0.067224  0.051412  0.142050  0.152406   \n",
      "AMZN    0.042807  0.074150  0.093347  0.053507  0.044381  0.073408  0.080885   \n",
      "GOOGL   0.036019  0.067224  0.053507  0.084221  0.034112  0.053361  0.064445   \n",
      "MSFT    0.031228  0.051412  0.044381  0.034112  0.048538  0.048463  0.060715   \n",
      "\n",
      "Ticker       SPY      TSLA  \n",
      "Ticker                      \n",
      "AAPL    0.030607  0.075501  \n",
      "AMD     0.052068  0.121938  \n",
      "AMZN    0.036163  0.080804  \n",
      "GOOGL   0.028328  0.070767  \n",
      "MSFT    0.025424  0.053090  \n"
     ]
    }
   ],
   "source": [
    "# Annualized covariance matrix from log returns\n",
    "try:\n",
    "    if 'log_returns' not in globals() or log_returns.empty:\n",
    "        print(\"Error: log_returns is not available or empty; compute it first.\")\n",
    "    else:\n",
    "        cov_matrix = log_returns.cov() * 252\n",
    "        print(\"Covariance matrix shape:\", cov_matrix.shape)\n",
    "        print(\"Tickers:\", list(cov_matrix.columns))\n",
    "        print(\"\\nHead of covariance matrix:\\n\", cov_matrix.head())\n",
    "except NameError:\n",
    "    print(\"Error: log_returns not defined; run the log-returns cell first.\")"
   ]
  },
  {
   "cell_type": "code",
   "execution_count": 68,
   "id": "6eb626fd",
   "metadata": {},
   "outputs": [],
   "source": [
    "# Portfolio performance metrics\n",
    "import numpy as np\n",
    "\n",
    "def standard_deviation(weights, cov_matrix):\n",
    "    w = np.asarray(weights)\n",
    "    return np.sqrt(w.T @ cov_matrix @ w)\n",
    "\n",
    "def expected_return(weights, log_returns):\n",
    "    w = np.asarray(weights)\n",
    "    return np.sum(log_returns.mean().values * w) * 252\n",
    "\n",
    "def sharpe_ratio(weights, log_returns, cov_matrix, risk_free_rate=0.0):\n",
    "    return (expected_return(weights, log_returns) - risk_free_rate) / standard_deviation(weights, cov_matrix)"
   ]
  },
  {
   "cell_type": "code",
   "execution_count": 69,
   "id": "0a671d01",
   "metadata": {},
   "outputs": [
    {
     "name": "stdout",
     "output_type": "stream",
     "text": [
      "Optimization success: True\n"
     ]
    }
   ],
   "source": [
    "# Portfolio optimization (maximize Sharpe)\n",
    "from scipy.optimize import minimize\n",
    "\n",
    "risk_free_rate = 0.02  # 2%\n",
    "\n",
    "\n",
    "def neg_sharpe_ratio(weights, log_returns, cov_matrix, risk_free_rate):\n",
    "    return -sharpe_ratio(weights, log_returns, cov_matrix, risk_free_rate)\n",
    "\n",
    "n_assets = len(adj_close_df.columns)\n",
    "constraints = ({'type': 'eq', 'fun': lambda w: np.sum(w) - 1},)\n",
    "bounds = tuple((0.0, 0.4) for _ in range(n_assets))\n",
    "initial_weights = np.array([1.0 / n_assets] * n_assets)\n",
    "\n",
    "if 'log_returns' in globals() and not log_returns.empty:\n",
    "    optimized_results = minimize(\n",
    "        neg_sharpe_ratio,\n",
    "        initial_weights,\n",
    "        args=(log_returns, cov_matrix, risk_free_rate),\n",
    "        method='SLSQP',\n",
    "        constraints=constraints,\n",
    "        bounds=bounds,\n",
    "    )\n",
    "    print(\"Optimization success:\", optimized_results.success)\n",
    "    if not optimized_results.success:\n",
    "        print(\"Message:\", optimized_results.message)\n",
    "else:\n",
    "    print(\"Error: compute log_returns and cov_matrix before optimization.\")"
   ]
  },
  {
   "cell_type": "code",
   "execution_count": 70,
   "id": "7f5acd64",
   "metadata": {},
   "outputs": [
    {
     "name": "stdout",
     "output_type": "stream",
     "text": [
      "Optimal Weights:\n",
      "AAPL: 0.0000\n",
      "AMD: 0.0000\n",
      "AMZN: 0.0000\n",
      "GOOGL: 0.0000\n",
      "MSFT: 0.3863\n",
      "MU: 0.0000\n",
      "NVDA: 0.4000\n",
      "SPY: 0.2137\n",
      "TSLA: 0.0000\n",
      "\n",
      "Expected Annual Return: 0.4241\n",
      "Expected Volatility: 0.2847\n",
      "Sharpe Ratio: 1.4194\n"
     ]
    },
    {
     "data": {
      "image/png": "[encoded data removed]",
      "text/plain": [
       "<Figure size 1000x600 with 1 Axes>"
      ]
     },
     "metadata": {},
     "output_type": "display_data"
    }
   ],
   "source": [
    "# Analyze the optimal portfolio and plot weights\n",
    "import matplotlib.pyplot as plt\n",
    "\n",
    "try:\n",
    "    optimal_weights = optimized_results.x\n",
    "    print(\"Optimal Weights:\")\n",
    "    for t, w in zip(adj_close_df.columns, optimal_weights):\n",
    "        print(f\"{t}: {w:.4f}\")\n",
    "\n",
    "    opt_ret = expected_return(optimal_weights, log_returns)\n",
    "    opt_vol = standard_deviation(optimal_weights, cov_matrix)\n",
    "    opt_sr = sharpe_ratio(optimal_weights, log_returns, cov_matrix, risk_free_rate)\n",
    "\n",
    "    print(f\"\\nExpected Annual Return: {opt_ret:.4f}\")\n",
    "    print(f\"Expected Volatility: {opt_vol:.4f}\")\n",
    "    print(f\"Sharpe Ratio: {opt_sr:.4f}\")\n",
    "\n",
    "    plt.figure(figsize=(10, 6))\n",
    "    plt.bar(adj_close_df.columns, optimal_weights)\n",
    "    plt.xlabel('Assets')\n",
    "    plt.ylabel('Optimal Weights')\n",
    "    plt.title('Optimal Portfolio Weights (Max Sharpe)')\n",
    "    plt.xticks(rotation=45)\n",
    "    plt.tight_layout()\n",
    "    plt.show()\n",
    "except Exception as e:\n",
    "    print(\"Optimization results not available:\", str(e))"
   ]
  },
  {
   "cell_type": "code",
   "execution_count": 71,
   "id": "25a8f87d",
   "metadata": {},
   "outputs": [
    {
     "name": "stderr",
     "output_type": "stream",
     "text": [
      "2025-08-09 20:29:44,000 INFO: Code is Poetry\n"
     ]
    }
   ],
   "source": [
    "import logging\n",
    "\n",
    "logging.basicConfig(level=logging.INFO, format=\"%(asctime)s %(levelname)s: %(message)s\")\n",
    "log = logging.getLogger(\"console\")\n",
    "\n",
    "log.info(\"Code is Poetry\")"
   ]
  },
  {
   "cell_type": "code",
   "execution_count": null,
   "id": "5a2ce558",
   "metadata": {},
   "outputs": [],
   "source": []
  },
  {
   "cell_type": "code",
   "execution_count": null,
   "id": "ebf64fd1",
   "metadata": {},
   "outputs": [],
   "source": []
  }
 ],
 "metadata": {
  "kernelspec": {
   "display_name": "MLDLNEW",
   "language": "python",
   "name": "python3"
  },
  "language_info": {
   "codemirror_mode": {
    "name": "ipython",
    "version": 3
   },
   "file_extension": ".py",
   "mimetype": "text/x-python",
   "name": "python",
   "nbconvert_exporter": "python",
   "pygments_lexer": "ipython3",
   "version": "3.10.15"
  }
 },
 "nbformat": 4,
 "nbformat_minor": 5
}
